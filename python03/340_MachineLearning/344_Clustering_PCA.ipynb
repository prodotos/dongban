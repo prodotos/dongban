{
 "cells": [
  {
   "cell_type": "markdown",
   "metadata": {},
   "source": [
    "# Clustering & PCA"
   ]
  },
  {
   "cell_type": "markdown",
   "metadata": {},
   "source": [
    "---"
   ]
  },
  {
   "cell_type": "code",
   "execution_count": null,
   "metadata": {},
   "outputs": [],
   "source": [
    "import pandas as pd\n",
    "import numpy as np\n",
    "import matplotlib.pyplot as plt\n",
    "\n",
    "%matplotlib inline\n",
    "\n",
    "from matplotlib import rcParams\n",
    "rcParams['font.family'] = 'New Gulim'\n",
    "rcParams['font.size'] = 20\n",
    "rcParams['axes.unicode_minus'] = False"
   ]
  },
  {
   "cell_type": "code",
   "execution_count": null,
   "metadata": {},
   "outputs": [],
   "source": [
    "from sklearn.cluster import KMeans\n",
    "from sklearn.cluster import AgglomerativeClustering\n",
    "from sklearn.metrics.cluster import adjusted_rand_score\n",
    "from scipy.cluster.hierarchy import dendrogram, ward\n",
    "from sklearn.cluster import DBSCAN\n",
    "\n",
    "from sklearn.metrics.cluster import silhouette_score\n",
    "\n",
    "from sklearn.decomposition import PCA"
   ]
  },
  {
   "cell_type": "markdown",
   "metadata": {},
   "source": [
    "# 1. 보성군 날씨"
   ]
  },
  {
   "cell_type": "markdown",
   "metadata": {},
   "source": [
    "#### 데이터 로드"
   ]
  },
  {
   "cell_type": "code",
   "execution_count": null,
   "metadata": {},
   "outputs": [],
   "source": [
    "# 보성군 날씨\n",
    "df = pd.read_csv('data/bosung_weather.csv', encoding='cp949', parse_dates=['시간'])\n",
    "df.set_index('시간', inplace=True)\n",
    "df"
   ]
  },
  {
   "cell_type": "code",
   "execution_count": null,
   "metadata": {
    "scrolled": true
   },
   "outputs": [],
   "source": [
    "# 2개 속성 선택, 결측치 제거, 200개 샘플링\n",
    "df = df[['기온(°C)', '풍속(m/s)']].dropna().sample(n=200)\n",
    "df"
   ]
  },
  {
   "cell_type": "markdown",
   "metadata": {},
   "source": [
    "### 1.1 K-Means Clustering"
   ]
  },
  {
   "cell_type": "code",
   "execution_count": null,
   "metadata": {},
   "outputs": [],
   "source": [
    "# 모델 생성\n",
    "km = KMeans(n_clusters=4, random_state=123)"
   ]
  },
  {
   "cell_type": "code",
   "execution_count": null,
   "metadata": {},
   "outputs": [],
   "source": [
    "# 군집 분류\n",
    "labels_km = km.fit_predict(df)"
   ]
  },
  {
   "cell_type": "code",
   "execution_count": null,
   "metadata": {},
   "outputs": [],
   "source": [
    "labels_km"
   ]
  },
  {
   "cell_type": "code",
   "execution_count": null,
   "metadata": {},
   "outputs": [],
   "source": [
    "print(\"군집의 크기: {}\".format(np.bincount(labels_km)))"
   ]
  },
  {
   "cell_type": "code",
   "execution_count": null,
   "metadata": {},
   "outputs": [],
   "source": [
    "# 2차원 시각화\n",
    "fig = plt.figure(figsize=(12,8))\n",
    "plt.scatter(df.iloc[:, 0], df.iloc[:, 1], c=labels_km, s=100, edgecolors='black')\n",
    "\n",
    "plt.scatter(km.cluster_centers_[:, 0], km.cluster_centers_[:, 1], s=200,\n",
    "            marker='^', c=range(km.n_clusters), linewidth=2, edgecolors='black')\n",
    "\n",
    "plt.xlabel(\"기온\")\n",
    "plt.ylabel(\"풍속\")\n",
    "plt.show()"
   ]
  },
  {
   "cell_type": "markdown",
   "metadata": {},
   "source": [
    "### 1.2 병합 군집 ( agglomerative clustering )"
   ]
  },
  {
   "cell_type": "code",
   "execution_count": null,
   "metadata": {},
   "outputs": [],
   "source": [
    "# 모델 생성\n",
    "agg = AgglomerativeClustering(n_clusters=4)"
   ]
  },
  {
   "cell_type": "code",
   "execution_count": null,
   "metadata": {},
   "outputs": [],
   "source": [
    "# 군집 분류\n",
    "labels_agg = agg.fit_predict(df)"
   ]
  },
  {
   "cell_type": "code",
   "execution_count": null,
   "metadata": {},
   "outputs": [],
   "source": [
    "labels_agg"
   ]
  },
  {
   "cell_type": "code",
   "execution_count": null,
   "metadata": {},
   "outputs": [],
   "source": [
    "print(\"군집의 크기: {}\".format(np.bincount(labels_agg)))"
   ]
  },
  {
   "cell_type": "code",
   "execution_count": null,
   "metadata": {},
   "outputs": [],
   "source": [
    "# 2차원 시각화\n",
    "fig = plt.figure(figsize=(12,8))\n",
    "plt.scatter(df.iloc[:, 0], df.iloc[:, 1], c=labels_agg, s=100, edgecolors='black')\n",
    "\n",
    "plt.xlabel(\"기온\")\n",
    "plt.ylabel(\"풍속\")\n",
    "\n",
    "plt.show()"
   ]
  },
  {
   "cell_type": "markdown",
   "metadata": {},
   "source": [
    "#### 1.2.1 Dendrogram"
   ]
  },
  {
   "cell_type": "code",
   "execution_count": null,
   "metadata": {},
   "outputs": [],
   "source": [
    "# scipy의 계층 군집 유사도가 들어 있는 연결배열 반환\n",
    "linkage_array = ward(df)\n",
    "\n",
    "# 클러스터 사이의 거리가 담겨있는 linkage_array로 덴드로그램 시각화\n",
    "# p값을 통해 최종 leaf 깊이 설정\n",
    "plt.figure(figsize=(10,10))\n",
    "dendrogram(linkage_array, p=3, truncate_mode='level', no_labels=True)\n",
    "\n",
    "plt.xlabel(\"샘플 번호\")\n",
    "plt.ylabel(\"클러스터 거리\")\n",
    "\n",
    "ax = plt.gca()\n",
    "bounds = ax.get_xbound()\n",
    "ax.plot(bounds, [20, 20], '--', c='k')"
   ]
  },
  {
   "cell_type": "markdown",
   "metadata": {},
   "source": [
    "### 1.3 DBSCAN"
   ]
  },
  {
   "cell_type": "code",
   "execution_count": null,
   "metadata": {},
   "outputs": [],
   "source": [
    "# 모델 생성\n",
    "dbscan = DBSCAN(min_samples=7, eps=1)"
   ]
  },
  {
   "cell_type": "code",
   "execution_count": null,
   "metadata": {},
   "outputs": [],
   "source": [
    "# 군집 분류\n",
    "labels_dbscan = dbscan.fit_predict(df)"
   ]
  },
  {
   "cell_type": "code",
   "execution_count": null,
   "metadata": {},
   "outputs": [],
   "source": [
    "labels_dbscan"
   ]
  },
  {
   "cell_type": "code",
   "execution_count": null,
   "metadata": {},
   "outputs": [],
   "source": [
    "# 2차원 시각화\n",
    "fig = plt.figure(figsize=(12,8))\n",
    "plt.scatter(df.iloc[:, 0], df.iloc[:, 1], c=labels_dbscan, s=100, edgecolors='black')\n",
    "\n",
    "plt.xlabel(\"기온\")\n",
    "plt.ylabel(\"풍속\")"
   ]
  },
  {
   "cell_type": "markdown",
   "metadata": {},
   "source": [
    "### 1.4 군집 분석 평가 - 실루엣 점수"
   ]
  },
  {
   "cell_type": "code",
   "execution_count": null,
   "metadata": {},
   "outputs": [],
   "source": [
    "fig, axes = plt.subplots(1, 3, figsize=(12, 3),subplot_kw={'xticks': (), 'yticks': ()})\n",
    "\n",
    "rcParams['font.size'] = 15\n",
    "\n",
    "axes[0].scatter(df.iloc[:, 0], df.iloc[:, 1], c=labels_km, s=60, edgecolors='black')\n",
    "axes[0].set_title(\"{} : {:.2f}\".format(km.__class__.__name__, silhouette_score(df, labels_km)))\n",
    "\n",
    "axes[1].scatter(df.iloc[:, 0], df.iloc[:, 1], c=labels_agg, s=60, edgecolors='black')\n",
    "axes[1].set_title(\"{} : {:.2f}\".format(agg.__class__.__name__, silhouette_score(df, labels_agg)))\n",
    "\n",
    "axes[2].scatter(df.iloc[:, 0], df.iloc[:, 1], c=labels_dbscan, s=60, edgecolors='black')\n",
    "axes[2].set_title(\"{} : {:.2f}\".format(dbscan.__class__.__name__, silhouette_score(df, labels_dbscan)))\n",
    "\n",
    "plt.show()"
   ]
  },
  {
   "cell_type": "markdown",
   "metadata": {},
   "source": [
    "### 1.5 PCA - 주성분 분석"
   ]
  },
  {
   "cell_type": "code",
   "execution_count": null,
   "metadata": {},
   "outputs": [],
   "source": [
    "df = pd.read_csv('data/bosung_weather.csv', encoding='cp949', parse_dates=['시간'])\n",
    "df.set_index('시간', inplace=True)\n",
    "df"
   ]
  },
  {
   "cell_type": "code",
   "execution_count": null,
   "metadata": {},
   "outputs": [],
   "source": [
    "# 결측 제거 및 200개 샘플링\n",
    "df = df.dropna().sample(n=200)"
   ]
  },
  {
   "cell_type": "code",
   "execution_count": null,
   "metadata": {},
   "outputs": [],
   "source": [
    "# PCA 모델 생성\n",
    "pca = PCA(n_components=2)"
   ]
  },
  {
   "cell_type": "code",
   "execution_count": null,
   "metadata": {},
   "outputs": [],
   "source": [
    "# PCA Transform\n",
    "df_pca = pca.fit_transform(df)\n",
    "df_pca"
   ]
  },
  {
   "cell_type": "code",
   "execution_count": null,
   "metadata": {},
   "outputs": [],
   "source": [
    "# K-Means clustering\n",
    "km = KMeans(n_clusters=4, random_state=123)\n",
    "labels_km = km.fit_predict(df_pca)"
   ]
  },
  {
   "cell_type": "code",
   "execution_count": null,
   "metadata": {},
   "outputs": [],
   "source": [
    "# 병합 군집 (agglomerative clustering)\n",
    "agg = AgglomerativeClustering(n_clusters=4)\n",
    "labels_agg = agg.fit_predict(df_pca)"
   ]
  },
  {
   "cell_type": "code",
   "execution_count": null,
   "metadata": {},
   "outputs": [],
   "source": [
    "# DBSCAN\n",
    "dbscan = DBSCAN(min_samples=7, eps=3)\n",
    "labels_dbscan = dbscan.fit_predict(df_pca)"
   ]
  },
  {
   "cell_type": "code",
   "execution_count": null,
   "metadata": {},
   "outputs": [],
   "source": [
    "# 군집별 실루엣 점수 평가\n",
    "\n",
    "fig, axes = plt.subplots(1, 3, figsize=(12, 3),subplot_kw={'xticks': (), 'yticks': ()})\n",
    "\n",
    "rcParams['font.size'] = 15\n",
    "\n",
    "axes[0].scatter(df_pca[:, 0], df_pca[:, 1], c=labels_km, s=60, edgecolors='black')\n",
    "axes[0].set_title(\"{} : {:.2f}\".format(km.__class__.__name__, silhouette_score(df, labels_km)))\n",
    "\n",
    "axes[1].scatter(df_pca[:, 0], df_pca[:, 1], c=labels_agg, s=60, edgecolors='black')\n",
    "axes[1].set_title(\"{} : {:.2f}\".format(agg.__class__.__name__, silhouette_score(df, labels_agg)))\n",
    "\n",
    "axes[2].scatter(df_pca[:, 0], df_pca[:, 1], c=labels_dbscan, s=60, edgecolors='black')\n",
    "axes[2].set_title(\"{} : {:.2f}\".format(dbscan.__class__.__name__, silhouette_score(df, labels_dbscan)))\n",
    "\n",
    "plt.show()\n"
   ]
  },
  {
   "cell_type": "markdown",
   "metadata": {},
   "source": [
    "---"
   ]
  },
  {
   "cell_type": "markdown",
   "metadata": {},
   "source": [
    "# 2. 유럽 국가별 단백질 섭취원 비율"
   ]
  },
  {
   "cell_type": "markdown",
   "metadata": {},
   "source": [
    "#### 데이터 로드"
   ]
  },
  {
   "cell_type": "code",
   "execution_count": null,
   "metadata": {
    "scrolled": true
   },
   "outputs": [],
   "source": [
    "# 유럽국가 단백질 섭취원\n",
    "df_p = pd.read_csv('data/protein.csv')\n",
    "df_p.set_index('Country', inplace=True)\n",
    "df_p"
   ]
  },
  {
   "cell_type": "code",
   "execution_count": null,
   "metadata": {},
   "outputs": [],
   "source": [
    "# 모델 생성\n",
    "km_p = KMeans(n_clusters=5, random_state=123)"
   ]
  },
  {
   "cell_type": "code",
   "execution_count": null,
   "metadata": {},
   "outputs": [],
   "source": [
    "# 군집 분류\n",
    "labels_km_p = km_p.fit_predict(df_p)"
   ]
  },
  {
   "cell_type": "code",
   "execution_count": null,
   "metadata": {},
   "outputs": [],
   "source": [
    "labels_km_p"
   ]
  },
  {
   "cell_type": "code",
   "execution_count": null,
   "metadata": {},
   "outputs": [],
   "source": [
    "df_p['gpnum'] = labels_km_p\n",
    "df_p.sort_values(by='gpnum')"
   ]
  },
  {
   "cell_type": "markdown",
   "metadata": {},
   "source": [
    "---"
   ]
  },
  {
   "cell_type": "code",
   "execution_count": null,
   "metadata": {},
   "outputs": [],
   "source": [
    "# end of file"
   ]
  },
  {
   "cell_type": "code",
   "execution_count": null,
   "metadata": {},
   "outputs": [],
   "source": []
  }
 ],
 "metadata": {
  "kernelspec": {
   "display_name": "Python 3",
   "language": "python",
   "name": "python3"
  },
  "language_info": {
   "codemirror_mode": {
    "name": "ipython",
    "version": 3
   },
   "file_extension": ".py",
   "mimetype": "text/x-python",
   "name": "python",
   "nbconvert_exporter": "python",
   "pygments_lexer": "ipython3",
   "version": "3.7.1"
  }
 },
 "nbformat": 4,
 "nbformat_minor": 2
}
