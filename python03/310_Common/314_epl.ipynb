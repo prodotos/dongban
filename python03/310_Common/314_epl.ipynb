{
 "cells": [
  {
   "cell_type": "markdown",
   "metadata": {},
   "source": [
    "# EPL 데이터 분석"
   ]
  },
  {
   "cell_type": "markdown",
   "metadata": {},
   "source": [
    "---"
   ]
  },
  {
   "cell_type": "code",
   "execution_count": null,
   "metadata": {},
   "outputs": [],
   "source": [
    "import numpy as np\n",
    "import pandas as pd\n",
    "import matplotlib.pyplot as plt\n",
    "%matplotlib inline \n",
    "\n",
    "from matplotlib.pylab import rcParams, style\n",
    "rcParams['figure.figsize'] = 12, 8\n",
    "rcParams['font.family'] = 'New Gulim'\n",
    "rcParams['font.size'] = 10\n",
    "\n",
    "style.use('ggplot')"
   ]
  },
  {
   "cell_type": "markdown",
   "metadata": {},
   "source": [
    "## 데이터 로드"
   ]
  },
  {
   "cell_type": "code",
   "execution_count": null,
   "metadata": {},
   "outputs": [],
   "source": [
    "# 2015-2016 잉글리시 프리미어 리그 경기기록\n",
    "df = pd.read_excel('data/epl.xls')\n",
    "df.head()"
   ]
  },
  {
   "cell_type": "code",
   "execution_count": null,
   "metadata": {},
   "outputs": [],
   "source": [
    "df['HomeTeam'].unique() # array"
   ]
  },
  {
   "cell_type": "code",
   "execution_count": null,
   "metadata": {
    "scrolled": true
   },
   "outputs": [],
   "source": [
    "df['HomeTeam'].value_counts()"
   ]
  },
  {
   "cell_type": "code",
   "execution_count": null,
   "metadata": {
    "scrolled": true
   },
   "outputs": [],
   "source": [
    "df['Date']"
   ]
  },
  {
   "cell_type": "code",
   "execution_count": null,
   "metadata": {},
   "outputs": [],
   "source": [
    "# H / A 중복되어 들어 있나? 2015년 8월 8일 경기 기록 확인.\n",
    "df[df['Date'] == '2015-08-08']"
   ]
  },
  {
   "cell_type": "code",
   "execution_count": null,
   "metadata": {},
   "outputs": [],
   "source": [
    "# FTHG = Full Time Home Team Goal\n",
    "# FTAG = Full Time Away Team Goal\n",
    "# FTR  = Full Time Result (H / A / D) : ( Home / Awaw / Draw )\n",
    "\n",
    "df_w = df[['Date', 'HomeTeam', 'AwayTeam', 'FTHG', 'FTAG', 'FTR']]\n",
    "df_w.head()"
   ]
  },
  {
   "cell_type": "markdown",
   "metadata": {},
   "source": [
    "##  1. 시즌 성적표 작성"
   ]
  },
  {
   "cell_type": "code",
   "execution_count": null,
   "metadata": {},
   "outputs": [],
   "source": [
    "teams = df['HomeTeam'].unique()\n",
    "teams"
   ]
  },
  {
   "cell_type": "code",
   "execution_count": null,
   "metadata": {
    "scrolled": true
   },
   "outputs": [],
   "source": [
    "# 시즌 성적표(빈 양식)\n",
    "\n",
    "# Point(승점) = W * 3 + D\n",
    "\n",
    "f_tab = pd.DataFrame({'Team': teams, 'Point': 0},\n",
    "                     columns={'Team', 'Win', 'Draw', 'Lost', '득점', '실점', '골득실', 'Point'})\n",
    "f_tab = f_tab.fillna(0)\n",
    "f_tab.head()"
   ]
  },
  {
   "cell_type": "code",
   "execution_count": null,
   "metadata": {},
   "outputs": [],
   "source": [
    "f_tab = f_tab.reindex(columns= ['Team', 'Win', 'Draw', 'Lost', '득점', '실점', '골득실', 'Point'])\n",
    "f_tab.head()"
   ]
  },
  {
   "cell_type": "markdown",
   "metadata": {},
   "source": [
    "#### 데이터 탐색"
   ]
  },
  {
   "cell_type": "code",
   "execution_count": null,
   "metadata": {},
   "outputs": [],
   "source": [
    "df_w.head()"
   ]
  },
  {
   "cell_type": "code",
   "execution_count": null,
   "metadata": {},
   "outputs": [],
   "source": [
    "# HomeTeam으로 그룹핑\n",
    "gp_home = df_w.groupby('HomeTeam')"
   ]
  },
  {
   "cell_type": "code",
   "execution_count": null,
   "metadata": {},
   "outputs": [],
   "source": [
    "#for name, group in gp_home:\n",
    "#    print(name)\n",
    "#    print(group)\n",
    "\n",
    "dic_t = dict(list(gp_home))"
   ]
  },
  {
   "cell_type": "code",
   "execution_count": null,
   "metadata": {
    "scrolled": true
   },
   "outputs": [],
   "source": [
    "dic_t['Liverpool']"
   ]
  },
  {
   "cell_type": "code",
   "execution_count": null,
   "metadata": {
    "scrolled": true
   },
   "outputs": [],
   "source": [
    "dic_t['Chelsea']"
   ]
  },
  {
   "cell_type": "code",
   "execution_count": null,
   "metadata": {
    "scrolled": true
   },
   "outputs": [],
   "source": [
    "# 각 팀별로 득점, 실점, 골득실을 계산\n",
    "\n",
    "f_tab.loc[\n",
    "    f_tab['Team'] == 'Arsenal', '득점'\n",
    "] = dic_t['Arsenal']['FTHG'].sum()\n",
    "\n",
    "\n",
    "f_tab.loc[\n",
    "    f_tab['Team'] == 'Arsenal', '실점'\n",
    "] = dic_t['Arsenal']['FTAG'].sum()\n",
    "\n",
    "f_tab['골득실'] = f_tab['득점'] - f_tab['실점']\n",
    "\n",
    "f_tab"
   ]
  },
  {
   "cell_type": "code",
   "execution_count": null,
   "metadata": {
    "scrolled": true
   },
   "outputs": [],
   "source": [
    "# 각 그룹의 첫 번째 데이터\n",
    "gp_home.first()"
   ]
  },
  {
   "cell_type": "code",
   "execution_count": null,
   "metadata": {
    "scrolled": true
   },
   "outputs": [],
   "source": [
    "# 각 그룹의 마지막 데이터\n",
    "gp_home.last()"
   ]
  },
  {
   "cell_type": "markdown",
   "metadata": {},
   "source": [
    "#### Home team"
   ]
  },
  {
   "cell_type": "code",
   "execution_count": null,
   "metadata": {
    "scrolled": true
   },
   "outputs": [],
   "source": [
    "# 각 팀별로 득점, 실점 계산\n",
    "df_home = gp_home.agg({'FTHG': sum, 'FTAG': sum })\n",
    "df_home.rename(columns={'FTHG': '득점', 'FTAG': '실점'}, inplace=True)\n",
    "df_home"
   ]
  },
  {
   "cell_type": "code",
   "execution_count": null,
   "metadata": {},
   "outputs": [],
   "source": [
    "# 함수정의: 승, 패, 무승부 횟수 계산\n",
    "def func(x):\n",
    "    return x.value_counts()\n"
   ]
  },
  {
   "cell_type": "code",
   "execution_count": null,
   "metadata": {
    "scrolled": true
   },
   "outputs": [],
   "source": [
    "# 각 팀별로 승, 패, 무승부 횟수 계산\n",
    "df_home_ftr = gp_home['FTR'].apply(func).unstack()\n",
    "df_home_ftr"
   ]
  },
  {
   "cell_type": "code",
   "execution_count": null,
   "metadata": {
    "scrolled": true
   },
   "outputs": [],
   "source": [
    "# 컬럼 이름 수정 ( A: Away team 승, D: 무승부, H: Home team 승 )\n",
    "df_home_ftr.rename(columns={'A': 'Lost', 'D': 'Draw', 'H': 'Win'}, inplace=True)\n",
    "df_home_ftr"
   ]
  },
  {
   "cell_type": "markdown",
   "metadata": {},
   "source": [
    "#### Away team"
   ]
  },
  {
   "cell_type": "code",
   "execution_count": null,
   "metadata": {},
   "outputs": [],
   "source": [
    "# HomeTeam으로 그룹핑\n",
    "gp_away = df_w.groupby('AwayTeam')"
   ]
  },
  {
   "cell_type": "code",
   "execution_count": null,
   "metadata": {
    "scrolled": true
   },
   "outputs": [],
   "source": [
    "# 각 팀별로 득점, 실점 계산\n",
    "df_away = gp_away.agg({'FTHG': sum, 'FTAG': sum })\n",
    "df_away.rename(columns={'FTHG': '실점', 'FTAG': '득점'}, inplace=True)\n",
    "df_away"
   ]
  },
  {
   "cell_type": "code",
   "execution_count": null,
   "metadata": {
    "scrolled": true
   },
   "outputs": [],
   "source": [
    "# 각 팀별로 승, 패, 무승부 횟수 계산\n",
    "df_away_ftr = gp_away['FTR'].apply(func).unstack()\n",
    "df_away_ftr"
   ]
  },
  {
   "cell_type": "code",
   "execution_count": null,
   "metadata": {
    "scrolled": true
   },
   "outputs": [],
   "source": [
    "# 컬럼 이름 수정 ( A: Away team 승, D: 무승부, H: Home team 승 )\n",
    "df_away_ftr.rename(columns={'A': 'Win', 'D': 'Draw', 'H': 'Lost'}, inplace=True)\n",
    "df_away_ftr"
   ]
  },
  {
   "cell_type": "markdown",
   "metadata": {},
   "source": [
    "#### Home + Away: 득점, 실점, 골득실 계산"
   ]
  },
  {
   "cell_type": "code",
   "execution_count": null,
   "metadata": {
    "scrolled": true
   },
   "outputs": [],
   "source": [
    "# 홈/원정 경기에 대한 득점/실점 값 합산\n",
    "df_goal = df_home + df_away\n",
    "df_goal.index.name = None\n",
    "df_goal"
   ]
  },
  {
   "cell_type": "code",
   "execution_count": null,
   "metadata": {
    "scrolled": true
   },
   "outputs": [],
   "source": [
    "# 골득실 계산\n",
    "df_goal['골득실'] = df_goal['득점'] - df_goal['실점']\n",
    "df_goal"
   ]
  },
  {
   "cell_type": "markdown",
   "metadata": {},
   "source": [
    "#### Home + Away: 승, 패, 승점 계산"
   ]
  },
  {
   "cell_type": "code",
   "execution_count": null,
   "metadata": {
    "scrolled": true
   },
   "outputs": [],
   "source": [
    "df_ftr = df_home_ftr + df_away_ftr\n",
    "df_ftr.index.name = None\n",
    "df_ftr"
   ]
  },
  {
   "cell_type": "code",
   "execution_count": null,
   "metadata": {
    "scrolled": true
   },
   "outputs": [],
   "source": [
    "# 승점 계산 ( 승점 = 승 * 3 + 무승부 )\n",
    "df_ftr['Point'] = df_ftr['Win'] * 3 + df_ftr['Draw']\n",
    "df_ftr.sort_values('Point', ascending=False)\n",
    "df_ftr"
   ]
  },
  {
   "cell_type": "markdown",
   "metadata": {},
   "source": [
    "#### 최종 시즌 성적표"
   ]
  },
  {
   "cell_type": "code",
   "execution_count": null,
   "metadata": {
    "scrolled": true
   },
   "outputs": [],
   "source": [
    "# 승/패, 골득실 Dataframe 통합\n",
    "f_tab = pd.concat([df_ftr, df_goal], axis=1)\n",
    "\n",
    "# 컬럼 순서 정리\n",
    "f_tab = f_tab[['Win', 'Draw', 'Lost', '득점', '실점', '골득실', 'Point']]\n",
    "\n",
    "# 승점 우선 정렬, 동률인 경우 골득실로 정렬\n",
    "f_tab.sort_values(['Point', '골득실'], ascending=False)"
   ]
  },
  {
   "cell_type": "markdown",
   "metadata": {},
   "source": [
    "---"
   ]
  },
  {
   "cell_type": "markdown",
   "metadata": {},
   "source": [
    "## 2. 각 팀별 성적 집계"
   ]
  },
  {
   "cell_type": "code",
   "execution_count": null,
   "metadata": {},
   "outputs": [],
   "source": [
    "df_w.head()"
   ]
  },
  {
   "cell_type": "code",
   "execution_count": null,
   "metadata": {},
   "outputs": [],
   "source": [
    "# 팀 이름 설정\n",
    "team_name = 'Liverpool'"
   ]
  },
  {
   "cell_type": "code",
   "execution_count": null,
   "metadata": {
    "scrolled": true
   },
   "outputs": [],
   "source": [
    "# Home team 일 경우의 데이터\n",
    "df_w[df_w['HomeTeam'] == team_name]"
   ]
  },
  {
   "cell_type": "code",
   "execution_count": null,
   "metadata": {
    "scrolled": true
   },
   "outputs": [],
   "source": [
    "# Away team 일 경우의 데이터\n",
    "df_w[df_w['AwayTeam'] == team_name]"
   ]
  },
  {
   "cell_type": "markdown",
   "metadata": {},
   "source": [
    "#### 승, 패 처리 함수 정의"
   ]
  },
  {
   "cell_type": "code",
   "execution_count": null,
   "metadata": {},
   "outputs": [],
   "source": [
    "def result(x, home):\n",
    "    if x == 'H':\n",
    "        if home:  return 'W'\n",
    "        else:     return 'L'\n",
    "    elif x == 'A':\n",
    "        if home:  return 'L'\n",
    "        else:     return 'W'\n",
    "    else:\n",
    "        return x\n",
    "    "
   ]
  },
  {
   "cell_type": "markdown",
   "metadata": {},
   "source": [
    "#### Home team"
   ]
  },
  {
   "cell_type": "code",
   "execution_count": null,
   "metadata": {
    "scrolled": true
   },
   "outputs": [],
   "source": [
    "df_home = df_w[df_w['HomeTeam'] == team_name]\n",
    "df_home.head()"
   ]
  },
  {
   "cell_type": "code",
   "execution_count": null,
   "metadata": {},
   "outputs": [],
   "source": [
    "# 컬럼 이름 수정\n",
    "df_home = df_home.rename(columns={'AwayTeam':'Opponent', 'FTHG':'득점', 'FTAG':'실점' })\n",
    "df_home.head()"
   ]
  },
  {
   "cell_type": "code",
   "execution_count": null,
   "metadata": {},
   "outputs": [],
   "source": [
    "# 승, 패 처리\n",
    "df_home['FTR'] = df_home['FTR'].apply(result, home=True)\n",
    "df_home.head()"
   ]
  },
  {
   "cell_type": "markdown",
   "metadata": {},
   "source": [
    "#### Away team"
   ]
  },
  {
   "cell_type": "code",
   "execution_count": null,
   "metadata": {
    "scrolled": true
   },
   "outputs": [],
   "source": [
    "df_away = df_w[df_w['AwayTeam'] == team_name]\n",
    "df_away.head()"
   ]
  },
  {
   "cell_type": "code",
   "execution_count": null,
   "metadata": {},
   "outputs": [],
   "source": [
    "# 컬럼 이름 수정\n",
    "df_away = df_away.rename(columns={'HomeTeam':'Opponent', 'FTHG':'실점', 'FTAG':'득점' })\n",
    "df_away.head()"
   ]
  },
  {
   "cell_type": "code",
   "execution_count": null,
   "metadata": {},
   "outputs": [],
   "source": [
    "# 승, 패 처리\n",
    "df_away['FTR'] = df_away['FTR'].apply(result, home=False)\n",
    "df_away.head()"
   ]
  },
  {
   "cell_type": "markdown",
   "metadata": {},
   "source": [
    "#### Home + Away"
   ]
  },
  {
   "cell_type": "code",
   "execution_count": null,
   "metadata": {
    "scrolled": true
   },
   "outputs": [],
   "source": [
    "# Merge ( Home + Away )\n",
    "df_team = pd.merge(df_home, df_away, how='outer')\n",
    "df_team"
   ]
  },
  {
   "cell_type": "code",
   "execution_count": null,
   "metadata": {},
   "outputs": [],
   "source": [
    "# 컬럼 삭제\n",
    "df_team.drop(['HomeTeam', 'AwayTeam'], axis=1, inplace=True)\n",
    "df_team.head()"
   ]
  },
  {
   "cell_type": "code",
   "execution_count": null,
   "metadata": {},
   "outputs": [],
   "source": [
    "# Date 타입 변경 ( str --> datetime )\n",
    "df_team['Date'] = pd.to_datetime(df_team['Date'], format=\"%Y-%m-%d\")\n",
    "\n",
    "# Date 컬럼으로 정렬\n",
    "df_team.sort_values('Date', inplace=True)\n",
    "\n",
    "df_team.head()"
   ]
  },
  {
   "cell_type": "code",
   "execution_count": null,
   "metadata": {},
   "outputs": [],
   "source": [
    "# Date 컬럼을 인덱스로 지정\n",
    "df_team.set_index('Date', inplace=True)\n",
    "df_team.head()"
   ]
  },
  {
   "cell_type": "markdown",
   "metadata": {},
   "source": [
    "#### Win, CumWin 컬럼 생성"
   ]
  },
  {
   "cell_type": "code",
   "execution_count": null,
   "metadata": {
    "scrolled": true
   },
   "outputs": [],
   "source": [
    "# Win 컬럼 생성 ( 승: 1, 패: 0, 무승부: 0 )\n",
    "df_team['Win'] = df_team['FTR'].map({'W':1, 'L':0, 'D': 0})\n",
    "df_team.head()"
   ]
  },
  {
   "cell_type": "code",
   "execution_count": null,
   "metadata": {},
   "outputs": [],
   "source": [
    "# CumWin 컬럼 생성 ( 승리 누적 합계 )\n",
    "df_team['CumWin'] = df_team['Win'].cumsum()\n",
    "df_team.head(5)"
   ]
  },
  {
   "cell_type": "code",
   "execution_count": null,
   "metadata": {},
   "outputs": [],
   "source": [
    "# 누적 승리 그래프\n",
    "df_team['CumWin'].plot()"
   ]
  },
  {
   "cell_type": "markdown",
   "metadata": {},
   "source": [
    "#### Lost, CumLost 컬럼 생성"
   ]
  },
  {
   "cell_type": "code",
   "execution_count": null,
   "metadata": {},
   "outputs": [],
   "source": [
    "# Lost 컬럼 생성 ( 승: 0, 패: 1, 무승부: 0 )\n",
    "df_team['Lost'] = df_team['FTR'].map({'W':0, 'L':1, 'D': 0})"
   ]
  },
  {
   "cell_type": "code",
   "execution_count": null,
   "metadata": {},
   "outputs": [],
   "source": [
    "# CumLost 컬럼 생성 ( 패배 누적 합계 )\n",
    "df_team['CumLost'] = df_team['Lost'].cumsum()"
   ]
  },
  {
   "cell_type": "code",
   "execution_count": null,
   "metadata": {},
   "outputs": [],
   "source": [
    "# 누적 패배 그래프\n",
    "df_team['CumLost'].plot()"
   ]
  },
  {
   "cell_type": "code",
   "execution_count": null,
   "metadata": {},
   "outputs": [],
   "source": [
    "# 누적 승/패 그래프\n",
    "df_team[['CumWin', 'CumLost']].plot()"
   ]
  },
  {
   "cell_type": "markdown",
   "metadata": {},
   "source": [
    "#### Point, CumPoint 컬럼 생성"
   ]
  },
  {
   "cell_type": "code",
   "execution_count": null,
   "metadata": {},
   "outputs": [],
   "source": [
    "# Point 컬럼 생성 ( 승점 계산: W * 3 + D )\n",
    "df_team['Point'] = df_team['FTR'].map({'W':3, 'L':0, 'D': 1})"
   ]
  },
  {
   "cell_type": "code",
   "execution_count": null,
   "metadata": {},
   "outputs": [],
   "source": [
    "# CumPoint 컬럼 생성 ( 승점 누적 합계 )\n",
    "df_team['CumPoint'] = df_team['Point'].cumsum()"
   ]
  },
  {
   "cell_type": "code",
   "execution_count": null,
   "metadata": {},
   "outputs": [],
   "source": [
    "# 누적 승점 그래프\n",
    "df_team['CumPoint'].plot()"
   ]
  },
  {
   "cell_type": "markdown",
   "metadata": {},
   "source": [
    "---"
   ]
  },
  {
   "cell_type": "markdown",
   "metadata": {},
   "source": [
    "##  3. 각 팀별 성적 집계 - 함수 이용"
   ]
  },
  {
   "cell_type": "markdown",
   "metadata": {},
   "source": [
    "#### 성적 집계 함수 정의"
   ]
  },
  {
   "cell_type": "code",
   "execution_count": null,
   "metadata": {},
   "outputs": [],
   "source": [
    "def team_analysis(df, team_name):\n",
    "\n",
    "    df_w = df\n",
    "    \n",
    "    #----------------------------------------------------------------------------\n",
    "    # 입력된 team 데이터 로드\n",
    "    #----------------------------------------------------------------------------\n",
    "    # Home, Away team 로드\n",
    "    df_home = df_w[df_w['HomeTeam'] == team_name]\n",
    "    df_away = df_w[df_w['AwayTeam'] == team_name]\n",
    "\n",
    "    # 승, 패 처리 함수 정의\n",
    "    def result(x, home):\n",
    "        if x == 'H':\n",
    "            if home: return 'W'\n",
    "            else:    return 'L'\n",
    "        elif x == 'A':\n",
    "            if home: return 'L'\n",
    "            else:    return 'W'\n",
    "        else:\n",
    "            return x\n",
    "    \n",
    "    #----------------------------------------------------------------------------\n",
    "    # team 별 데이터 처리\n",
    "    #----------------------------------------------------------------------------\n",
    "    # 컬럼 이름 수정\n",
    "    df_home = df_home.rename(columns={'AwayTeam':'Opponent', 'FTHG':'득점', 'FTAG':'실점' })\n",
    "    df_away = df_away.rename(columns={'HomeTeam':'Opponent', 'FTHG':'실점', 'FTAG':'득점' })\n",
    "    \n",
    "    # 승, 패 처리\n",
    "    df_home['FTR'] = df_home['FTR'].apply(result, home=True)\n",
    "    df_away['FTR'] = df_away['FTR'].apply(result, home=False)\n",
    "\n",
    "\n",
    "    #----------------------------------------------------------------------------\n",
    "    # 데이터 통합처리 ( Home + Away )\n",
    "    #----------------------------------------------------------------------------\n",
    "    # Merge ( Home + Away )\n",
    "    df_team = pd.merge(df_home, df_away, how='outer')\n",
    "    \n",
    "    # 컬럼 삭제\n",
    "    df_team.drop(['HomeTeam', 'AwayTeam'], axis=1, inplace=True)\n",
    "\n",
    "    # Date 타입 변경 ( str --> datetime )\n",
    "    df_team['Date'] = pd.to_datetime(df_team['Date'], format=\"%Y-%m-%d\")\n",
    "\n",
    "    # 날짜별 정렬\n",
    "    df_team.sort_values('Date', inplace=True)\n",
    "    \n",
    "    # 날짜로 인덱스 설정\n",
    "    df_team.set_index('Date', inplace=True)\n",
    "    \n",
    "\n",
    "    #----------------------------------------------------------------------------\n",
    "    # 집계 컬럼 생성\n",
    "    #----------------------------------------------------------------------------\n",
    "    # Win, CumWin 컬럼 생성\n",
    "    df_team['Win'] = df_team['FTR'].map({'W':1, 'L':0, 'D': 0})\n",
    "    df_team['CumWin'] = df_team['Win'].cumsum()\n",
    "\n",
    "    # Lost, CumLost 컬럼 생성\n",
    "    df_team['Lost'] = df_team['FTR'].map({'W':0, 'L':1, 'D': 0})\n",
    "    df_team['CumLost'] = df_team['Lost'].cumsum()\n",
    "\n",
    "    # Point, CumPoint 컬럼 생성\n",
    "    df_team['Point'] = df_team['FTR'].map({'W':3, 'L':0, 'D': 1})\n",
    "    df_team['CumPoint'] = df_team['Point'].cumsum()\n",
    "    \n",
    "    df_team.name = team_name\n",
    "    \n",
    "    return df_team"
   ]
  },
  {
   "cell_type": "markdown",
   "metadata": {},
   "source": [
    "#### 각 팀별 성적 집계"
   ]
  },
  {
   "cell_type": "code",
   "execution_count": null,
   "metadata": {
    "scrolled": true
   },
   "outputs": [],
   "source": [
    "# 레스터 시티\n",
    "leicester = team_analysis(df_w, 'Leicester')\n",
    "leicester"
   ]
  },
  {
   "cell_type": "code",
   "execution_count": null,
   "metadata": {},
   "outputs": [],
   "source": [
    "leicester['CumPoint'].plot()"
   ]
  },
  {
   "cell_type": "code",
   "execution_count": null,
   "metadata": {},
   "outputs": [],
   "source": [
    "# 첼시\n",
    "chelsea = team_analysis(df_w, 'Chelsea')\n",
    "chelsea.index.name = 'Date'\n",
    "chelsea.head()"
   ]
  },
  {
   "cell_type": "code",
   "execution_count": null,
   "metadata": {},
   "outputs": [],
   "source": [
    "#import openpyxl"
   ]
  },
  {
   "cell_type": "code",
   "execution_count": null,
   "metadata": {},
   "outputs": [],
   "source": [
    "# 파일 저장\n",
    "chelsea.to_excel('data/chelsea.xlsx')"
   ]
  },
  {
   "cell_type": "markdown",
   "metadata": {},
   "source": [
    "#### 여러 팀 성적 집계"
   ]
  },
  {
   "cell_type": "code",
   "execution_count": null,
   "metadata": {},
   "outputs": [],
   "source": [
    "# 처리할 팀 리스트\n",
    "teams = ['Chelsea', 'Liverpool', 'Arsenal', 'Leicester']"
   ]
  },
  {
   "cell_type": "code",
   "execution_count": null,
   "metadata": {},
   "outputs": [],
   "source": [
    "plt.figure(figsize=(8,4))\n",
    "\n",
    "for t in teams:\n",
    "    # 누적 승점 그래프\n",
    "    df = team_analysis(df_w, t)['CumPoint']\n",
    "    df.plot(label=t)\n",
    "\n",
    "\n",
    "plt.legend(loc='best')\n",
    "plt.ylabel('Cumulative Points')"
   ]
  },
  {
   "cell_type": "markdown",
   "metadata": {
    "collapsed": true
   },
   "source": [
    "---"
   ]
  },
  {
   "cell_type": "code",
   "execution_count": null,
   "metadata": {},
   "outputs": [],
   "source": [
    "# end of file"
   ]
  },
  {
   "cell_type": "code",
   "execution_count": null,
   "metadata": {},
   "outputs": [],
   "source": []
  }
 ],
 "metadata": {
  "kernelspec": {
   "display_name": "Python 3",
   "language": "python",
   "name": "python3"
  },
  "language_info": {
   "codemirror_mode": {
    "name": "ipython",
    "version": 3
   },
   "file_extension": ".py",
   "mimetype": "text/x-python",
   "name": "python",
   "nbconvert_exporter": "python",
   "pygments_lexer": "ipython3",
   "version": "3.7.1"
  },
  "vip": {
   "base_numbering": 1,
   "nav_menu": {},
   "number_sections": true,
   "sideBar": true,
   "title_cell": "Visual Python",
   "title_sidebar": "Visual Python",
   "vip_cell": false,
   "vip_position": {},
   "vip_section_display": true,
   "vip_window_display": false
  }
 },
 "nbformat": 4,
 "nbformat_minor": 1
}
