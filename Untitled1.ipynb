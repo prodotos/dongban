{
 "cells": [
  {
   "cell_type": "code",
   "execution_count": 1,
   "metadata": {},
   "outputs": [
    {
     "name": "stdout",
     "output_type": "stream",
     "text": [
      "총점을 입력하세요 70\n",
      "success\n"
     ]
    }
   ],
   "source": [
    "score = int(input('총점을 입력하세요 '))\n",
    "\n",
    "message = 'success' if score >= 60 else 'failure'\n",
    "\n",
    "print(message)"
   ]
  },
  {
   "cell_type": "code",
   "execution_count": 4,
   "metadata": {},
   "outputs": [
    {
     "name": "stdout",
     "output_type": "stream",
     "text": [
      "총점을 입력해 주세요: 10\n"
     ]
    }
   ],
   "source": [
    "score = int(input('총점을 입력해 주세요: '))\n",
    "\n",
    "if score >= 90:\n",
    "    print('수')\n",
    "elif 80 <= score < 90:\n",
    "    print('우')\n"
   ]
  },
  {
   "cell_type": "code",
   "execution_count": 5,
   "metadata": {},
   "outputs": [],
   "source": [
    "message = 'Hello!'\n",
    "messages = ['Hello World', '서울과학종합대학원 빅데이터MABA']\n",
    "numbers = (1,2,3)\n",
    "polygon = {'triangle': 2, 'rectangle': 3, 'line': 1}\n",
    "color = {'red', 'green', 'blue'}\n",
    "        "
   ]
  },
  {
   "cell_type": "code",
   "execution_count": 7,
   "metadata": {},
   "outputs": [
    {
     "name": "stdout",
     "output_type": "stream",
     "text": [
      "H\n",
      "e\n",
      "l\n",
      "l\n",
      "o\n",
      "!\n"
     ]
    }
   ],
   "source": [
    "for item in message:\n",
    "    print(item)"
   ]
  },
  {
   "cell_type": "code",
   "execution_count": 8,
   "metadata": {},
   "outputs": [
    {
     "name": "stdout",
     "output_type": "stream",
     "text": [
      "1\n",
      "2\n",
      "3\n"
     ]
    }
   ],
   "source": [
    "for item in numbers:\n",
    "    print(item)"
   ]
  },
  {
   "cell_type": "code",
   "execution_count": 9,
   "metadata": {},
   "outputs": [
    {
     "name": "stdout",
     "output_type": "stream",
     "text": [
      "1부터 5까지 합은  15 입니다\n"
     ]
    }
   ],
   "source": [
    "total = 0\n",
    "\n",
    "for item in [1,2,3,4,5]:\n",
    "    total = total + item\n",
    "    \n",
    "print('1부터 5까지 합은 ', total, '입니다')    "
   ]
  },
  {
   "cell_type": "code",
   "execution_count": null,
   "metadata": {},
   "outputs": [],
   "source": [
    "year  = int(input('년도를 입력하시오: '))\n",
    "month = int(input('월을 입력하시오: '))\n",
    "day   = int(input('일을 입력하시오: '))\n",
    "\n",
    "total_days = 0\n",
    "\n",
    "year_month_days = [0,31,28,31,30,31,30,31,31,30,31,30,31]\n",
    "\n",
    "for item in range(1,year):\n",
    "    if item % 400 == 0:\n",
    "        total_days = total_days + 366\n",
    "    elif item % 100 == 0:\n",
    "        total_days = total_days + 365\n",
    "    elif item % 4 == 0:\n",
    "        total_days = total_days + 366\n",
    "    else:\n",
    "        total_days = total_days + 365\n",
    " \n",
    "\n",
    "for item in range(1, month):\n",
    "    total_days = total_days + year_month_days[item]\n",
    "    \n",
    "if month >= 3:\n",
    "    if year % 400 == 0:\n",
    "        total_days = total_days +1\n",
    "    elif     \n",
    "    \n",
    "        \n",
    "\n"
   ]
  }
 ],
 "metadata": {
  "kernelspec": {
   "display_name": "Python 3",
   "language": "python",
   "name": "python3"
  },
  "language_info": {
   "codemirror_mode": {
    "name": "ipython",
    "version": 3
   },
   "file_extension": ".py",
   "mimetype": "text/x-python",
   "name": "python",
   "nbconvert_exporter": "python",
   "pygments_lexer": "ipython3",
   "version": "3.7.6"
  }
 },
 "nbformat": 4,
 "nbformat_minor": 4
}
